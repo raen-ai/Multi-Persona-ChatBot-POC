{
 "cells": [
  {
   "cell_type": "code",
   "execution_count": 44,
   "metadata": {},
   "outputs": [],
   "source": [
    "# importing LangChain library to bring together the different components needed for our model\n",
    "\n",
    "from langchain.prompts import ChatPromptTemplate\n",
    "from langchain.chat_models import ChatOpenAI\n",
    "from langchain.schema.output_parser import StrOutputParser\n",
    "from langchain_core.runnables import RunnablePassthrough , RunnableParallel\n",
    "from langchain.schema.runnable import RunnablePassthrough\n",
    "from langchain_core.runnables import RunnableLambda\n",
    "from langchain.chat_models import ChatOpenAI\n",
    "from langchain.embeddings.openai import OpenAIEmbeddings\n",
    "from langchain.output_parsers import ResponseSchema, StructuredOutputParser\n",
    "from langchain.prompts import ChatPromptTemplate\n",
    "from langchain import PromptTemplate\n",
    "from langchain.text_splitter import CharacterTextSplitter\n",
    "from langchain.vectorstores import Qdrant\n",
    "from langchain_community.vectorstores import Qdrant\n",
    "from qdrant_client import models, QdrantClient\n",
    "import qdrant_client"
   ]
  },
  {
   "cell_type": "code",
   "execution_count": null,
   "metadata": {},
   "outputs": [],
   "source": [
    "# API keys\n",
    "\n",
    "import os\n",
    "import dotenv\n",
    "\n",
    "os.environ[\"OPENAI_API_KEY\"]"
   ]
  },
  {
   "cell_type": "code",
   "execution_count": 83,
   "metadata": {},
   "outputs": [],
   "source": [
    "# create a qdrant instance\n",
    "\n",
    "os.environ['QDRANT_HOST']\n",
    "os.environ[\"QDRANT_API_KEY\"]\n",
    "\n",
    "client = qdrant_client.QdrantClient(\n",
    "    os.getenv(\"QDRANT_HOST\"),\n",
    "    api_key=os.getenv(\"QDRANT_API_KEY\")\n",
    ")"
   ]
  },
  {
   "cell_type": "code",
   "execution_count": 84,
   "metadata": {},
   "outputs": [],
   "source": [
    "# create a qdrant instance\n",
    "\n",
    "os.environ['QDRANT_HOST'] \n",
    "os.environ[\"QDRANT_API_KEY\"]\n",
    "\n",
    "client = qdrant_client.QdrantClient(\n",
    "    os.getenv(\"QDRANT_HOST\"),\n",
    "    api_key=os.getenv(\"QDRANT_API_KEY\")\n",
    ")"
   ]
  },
  {
   "cell_type": "code",
   "execution_count": 85,
   "metadata": {},
   "outputs": [],
   "source": [
    "# read the file\n",
    "\n",
    "doc =\"personas.txt\"\n",
    "data=\"\"\n",
    "\n",
    "with open(doc,'r') as f:\n",
    "    data = f.read()"
   ]
  },
  {
   "cell_type": "code",
   "execution_count": 86,
   "metadata": {},
   "outputs": [],
   "source": [
    "# split the text into chunks\n",
    "#create a function to return chunks\n",
    "def get_chunks(text):\n",
    "    text_splitter=CharacterTextSplitter(\n",
    "        separator= \"\\n\",\n",
    "        chunk_size=1000,\n",
    "        chunk_overlap=100, # second chunk start  character from 800, overlap is used to stop loosing chunk\n",
    "        length_function=len\n",
    "    )\n",
    "\n",
    "    chunks=text_splitter.split_text(text)\n",
    "    return chunks"
   ]
  },
  {
   "cell_type": "code",
   "execution_count": 87,
   "metadata": {},
   "outputs": [],
   "source": [
    "# get the chunks for the data\n",
    "texts=get_chunks(data)"
   ]
  },
  {
   "cell_type": "code",
   "execution_count": null,
   "metadata": {},
   "outputs": [],
   "source": [
    "# creating a new collection\n",
    "\n",
    "vectors_config=models.VectorParams(\n",
    "    # depends on model, we can google dimension. 1536 for openai\n",
    "    # we are using openai embedding, for that size is 1536\n",
    "    size=1536,\n",
    "    distance=models.Distance.COSINE)\n",
    "\n",
    "client.create_collection(\n",
    "    collection_name=\"Personas\",\n",
    "    vectors_config=vectors_config,\n",
    ")"
   ]
  },
  {
   "cell_type": "code",
   "execution_count": 89,
   "metadata": {},
   "outputs": [],
   "source": [
    "# create a vector store object using langchain\n",
    "\n",
    "# if we want to use any other embedding, we need to change size\n",
    "\n",
    "os.environ[\"OPENAI_API_KEY\"]\n",
    "\n",
    "embeddings = OpenAIEmbeddings()\n",
    "\n",
    "vector_store = Qdrant(\n",
    "    client=client,\n",
    "    collection_name=\"Personas\",\n",
    "    embeddings=embeddings,\n",
    ")\n"
   ]
  },
  {
   "cell_type": "code",
   "execution_count": 90,
   "metadata": {},
   "outputs": [
    {
     "data": {
      "text/plain": [
       "['de48b50853cb4a8e867154cc4eeb861a',\n",
       " '98bd39867d114e11a945dec5b51ca83c',\n",
       " 'a9aaaf71eb7c41e79b4ce92b26ed9a09',\n",
       " '17dae18c588a414782730a3650f8981b',\n",
       " 'f720344887944471ba035a21b2666cf9',\n",
       " 'cfa4f849c0aa4338a487828dfd26e756',\n",
       " '7fbb922bb5f242c9a9e16eaa3d6e8a74',\n",
       " '307aeb470de74fa8b6e1347ddaabca2f',\n",
       " '3563c9b55a8f42309689b017f65dfff7',\n",
       " 'c152f57ad1984a88bf8fc7b75158aa43',\n",
       " '5a5e8338023341d88231c4bf17d15039',\n",
       " 'fe7923b7dcb64a5cafc515118e1c2ad9',\n",
       " '6dd0867acb0c4ec0aa34f1c243702ffe',\n",
       " '28d60efddec542bdb05b65f6e96fdebb',\n",
       " '94ecb12f36e847c290dadc1f02091d33',\n",
       " '76830301cffe458eaff610676d1a607e',\n",
       " 'f418d3f73dc44794a3b3f53ba20a191a',\n",
       " 'f68a6c3767d9453c8e4abda299e9a929',\n",
       " '24b85720e3e741bab0843e605a1fef18',\n",
       " 'a1cc2abca06f493bab6c94c89cdc1c9b',\n",
       " '185e043ba5f248a1a3299a780c1bc6a6',\n",
       " '90955689aa65493195a4efeb5cbf93f4',\n",
       " '68527d38e86d406ab17885cedec7bf48',\n",
       " 'f2589bf1a07c42c7a270ae3627ae090f',\n",
       " '8cc35d6d0f134c2dbcc824da23d13dc2',\n",
       " '59e910b97eaf4953ad92eb5c2a5eccc7',\n",
       " 'c58e66a4ce5f41ec8bbd500ddf446f7e',\n",
       " '459e237370ee4a9c8e400ae9dac0e7c7',\n",
       " '453a53357c714e5d985450f2ba368482',\n",
       " '181162076a8b43af8dbbb997420511ab',\n",
       " '178abc7ab6924ccc8b657ffb00df094b',\n",
       " '79d5e4e0f7ca4e16a3afda5a243eb4f6',\n",
       " '12ee97b8c46e44b0b82c23394f71499f',\n",
       " 'aa678131e9004b65b91eb3a3633c9c87',\n",
       " '09cd9d14e24b4f8d9ee2278f4547afdc',\n",
       " '868d25ac250246eea1a7a377eedc0abe',\n",
       " '468bf4e9c94d48c99499d139265b77e5',\n",
       " 'ace62d7946ea427c8fab7d10e4437cfc',\n",
       " '35ffdf64341a4d238935f4ca25a030dc',\n",
       " 'd5a9322af58846f0ad535d68e253ee22',\n",
       " '0002e62cdc7f41ca8532ee456d5220eb',\n",
       " '11df2f6246224872957e72db66cb6cff',\n",
       " '37a42146eac94f33993bd255acd40a23',\n",
       " '7ba24cd635d645d4acbf4847cd9defdb',\n",
       " '59d87bb170cf4ad89a74a993ffe7d019',\n",
       " '73686ca6933143a1b02b38539287095b',\n",
       " 'f6e7c5fe3c9a40308992804d1bfa0c74',\n",
       " 'ca26e684109942b59183c993a63a5295',\n",
       " 'b7260931dda045d8a2232d7e69faa2c0',\n",
       " 'e1d65cf8412d4e1782ed3e578d75230f',\n",
       " '42559afd63ad4434a403fdeb1a3f0cce']"
      ]
     },
     "execution_count": 90,
     "metadata": {},
     "output_type": "execute_result"
    }
   ],
   "source": [
    "# add chunks to vector store\n",
    "vector_store.add_texts(texts)"
   ]
  },
  {
   "cell_type": "code",
   "execution_count": 91,
   "metadata": {},
   "outputs": [],
   "source": [
    "# create retriever & let's try passing a question through to a these vectorstore objects\n",
    "\n",
    "\n",
    "retriever = vector_store.as_retriever()\n",
    "\n",
    "template1 = \"\"\"\"You are an strategizing AI agent for projects \n",
    "you provide insights which are categorized based on the personas provided to you. \n",
    "Your insights should reflect proper industry experience of the persona\n",
    " Please include the personas employed in the team composition.\n",
    "     {context}\n",
    "\n",
    "Question: {question}\n",
    "\"\"\""
   ]
  },
  {
   "cell_type": "code",
   "execution_count": 92,
   "metadata": {},
   "outputs": [],
   "source": [
    "template2 = \"\"\"\"You are a AI smart assistant here to offer guidance and advice on a variety of tasks and queries. \n",
    "Utilize the available tools to move forward in finding the answer to your question\n",
    "{context}\n",
    "\n",
    "Question: {question}\"\"\""
   ]
  },
  {
   "cell_type": "code",
   "execution_count": 93,
   "metadata": {},
   "outputs": [],
   "source": [
    "template = template1 + template2"
   ]
  },
  {
   "cell_type": "code",
   "execution_count": 94,
   "metadata": {},
   "outputs": [],
   "source": [
    "prompt = ChatPromptTemplate.from_template(template)\n",
    "\n",
    "model = ChatOpenAI()"
   ]
  },
  {
   "cell_type": "code",
   "execution_count": 95,
   "metadata": {},
   "outputs": [],
   "source": [
    "chain = (\n",
    "    {\"context\": retriever, \"question\": RunnablePassthrough()}\n",
    "    | prompt\n",
    "    | model\n",
    "    | StrOutputParser()\n",
    ")"
   ]
  },
  {
   "cell_type": "code",
   "execution_count": 96,
   "metadata": {},
   "outputs": [
    {
     "data": {
      "text/plain": [
       "'To set up a project for developing industrial applications, you will need a team with a diverse set of skills and expertise. Here are some recommendations based on the personas provided:\\n\\n1. **Project Manager Maya**: As a certified Project Management Professional with experience in leading complex IT infrastructure projects, Maya can take on the role of project manager for this industrial applications project. She will be responsible for coordinating cross-functional teams, managing resources, and ensuring the project is delivered on time and within budget.\\n\\n2. **AI Prompt Engineer**: With a background in practical applications and a deep understanding of how systems operate and evolve, the AI Prompt Engineer can contribute valuable insights on the technical aspects of developing industrial applications. They can help in designing the architecture, implementing AI solutions, and optimizing the performance of the applications.\\n\\n3. **Product Manager Marco**: With expertise in managing SaaS products and aligning features with user needs and business goals, Marco can play a critical role in defining the product strategy for the industrial applications project. He can prioritize features, manage trade-offs, and ensure the product meets market demands.\\n\\n4. **Planner Olivia**: Olivia, as an urban planner with a focus on sustainable development and livability, can contribute to the project by providing insights on designing user-friendly interfaces, optimizing the application for usability, and ensuring it aligns with environmental and social sustainability goals.\\n\\n5. **Diversity, Equity, and Inclusion (DEI) Consultant**: The DEI Consultant can ensure that the industrial applications project is inclusive and accessible to all users. They can provide guidance on designing the applications with diversity and equity in mind, ensuring that they meet the needs of a diverse range of users.\\n\\nIn terms of budget considerations, it is important to allocate resources for technology infrastructure, software development tools, team training, and ongoing support and maintenance. It is also crucial to factor in contingency funds for unforeseen challenges and changes in project scope.\\n\\nBy leveraging the expertise of these team members and considering budget considerations, you can set up a project for developing industrial applications that is well-planned, executed, and successful.'"
      ]
     },
     "execution_count": 96,
     "metadata": {},
     "output_type": "execute_result"
    }
   ],
   "source": [
    "# invoke response\n",
    "\n",
    "chain.invoke(\"How can I set up a project for developing a industrial applications, including needed skills, team members, and budget considerations?\")"
   ]
  },
  {
   "cell_type": "code",
   "execution_count": 97,
   "metadata": {},
   "outputs": [
    {
     "name": "stdout",
     "output_type": "stream",
     "text": [
      "To set up a project for developing industrial applications, you will need a diverse team with a range of skills and expertise. Here is a proposed team composition based on the personas provided:\n",
      "\n",
      "1. Project Manager (Manager Maya): As a globally recognized project manager with extensive experience in complex IT infrastructure projects, Manager Maya will be responsible for overseeing the project, ensuring it stays on track, within budget, and meets quality standards. Maya's expertise in coordinating cross-functional teams and problem-solving will be crucial for the project's success.\n",
      "\n",
      "2. Product Manager (Manager Marco): With a decade of experience in the tech industry, specifically in Software as a Service (SaaS) products, Manager Marco will bring a holistic product perspective to the project. Marco's ability to align product features with user needs and business goals, as well as prioritize features using Agile methodologies, will be essential for developing industrial applications that meet market demands.\n",
      "\n",
      "3. AI Prompt Engineer: This persona will provide valuable insights and guidance on the technical aspects of developing AI-driven industrial applications. Their expertise in AI technologies and systems thinking will be instrumental in designing and implementing innovative solutions.\n",
      "\n",
      "4. Urban Planner (Planner Olivia): Planner Olivia's expertise in urban design, land use planning, and environmental planning will be beneficial for creating sustainable and livable industrial applications. Olivia's focus on smart growth and inclusivity will ensure that the project aligns with environmental and social goals.\n",
      "\n",
      "5. Diversity, Equity, and Inclusion (DEI) Consultant: The DEI Consultant will play a crucial role in ensuring that the project considers diversity and inclusivity in its development process. Their insights will help create applications that are equitable, environmentally sustainable, and socially inclusive.\n",
      "\n",
      "Budget considerations will vary based on the scope of the project, technology requirements, and team size. It is essential to work closely with the Project Manager (Manager Maya) to develop a detailed budget that accounts for all necessary resources, including personnel, technology, and potential external partnerships.\n",
      "\n",
      "Overall, by leveraging the diverse skills and expertise of the team members outlined above, you can set up a well-rounded project for developing industrial applications that meet industry standards and market demands."
     ]
    }
   ],
   "source": [
    "# stream response\n",
    "\n",
    "for chunk in chain.stream(\n",
    "\"How can I set up a project for developing a industrial applications, including needed skills, team members, and budget considerations?\"):\n",
    "    print(chunk, end=\"\", flush=True)"
   ]
  },
  {
   "cell_type": "code",
   "execution_count": 98,
   "metadata": {},
   "outputs": [
    {
     "name": "stdout",
     "output_type": "stream",
     "text": [
      "As a strategizing AI agent, I will provide insights on how to increase the number of units sold in a supermarket during the summer sales and deals period.\n",
      "\n",
      "1. Social Media Manager (Manager Max): Utilize social media channels to promote summer sales and deals. Create engaging content that highlights special offers, discounts, and promotions to attract customers. Engage with followers and influencers to spread the word about the supermarket's summer offerings.\n",
      "\n",
      "2. Hypothetical User (User Uma): Focus on enhancing the user experience during the summer sales and deals period. Ensure that the supermarket website and mobile app are user-friendly, intuitive, and provide value to customers. Collect feedback from users to continuously improve their shopping experience.\n",
      "\n",
      "3. Product Manager (Manager Marco): Collaborate with the product team to introduce new products or variations that are suitable for summer sales and deals. Align product features with customer needs and preferences during the summer season. Prioritize products that are likely to drive sales and meet business objectives.\n",
      "\n",
      "4. Digital Marketing Specialist (Specialist Sarah): Implement digital marketing campaigns that target specific customer segments interested in summer sales and deals. Use SEO strategies to increase visibility online, email marketing to reach out to existing customers, and social media advertising to attract new customers. Analyze campaign performance metrics to optimize marketing strategies.\n",
      "\n",
      "By incorporating strategies from these personas, the supermarket can effectively increase the number of units sold during the summer sales and deals period."
     ]
    }
   ],
   "source": [
    "# stream response\n",
    "\n",
    "for chunk in chain.stream(\n",
    "\"Can you advise with how to increase the number of units sold in a supermarket based off of summer sales and deals?\"):\n",
    "    print(chunk, end=\"\", flush=True)"
   ]
  },
  {
   "cell_type": "code",
   "execution_count": 99,
   "metadata": {},
   "outputs": [
    {
     "name": "stdout",
     "output_type": "stream",
     "text": [
      "To improve financial performance, you should consider the following strategies:\n",
      "\n",
      "1. Utilize Advisor Amy's expertise in investment planning, retirement planning, estate planning, and risk management to assess and optimize your financial portfolio.\n",
      "\n",
      "2. Seek guidance from Business Strategist Sophia to develop a strategic business plan that aligns with market dynamics, competitive landscape, and business models to drive growth and competitive advantage.\n",
      "\n",
      "3. Leverage Manager Michael's HR strategies to create a positive work environment, foster employee engagement, and support employee growth and development, which can lead to increased productivity and performance.\n",
      "\n",
      "4. Incorporate insights from the AI Prompt Engineer on how to navigate complexity, enhance adaptability, and foster a culture of continuous learning and innovation within your organization, which can contribute to long-term financial success.\n",
      "\n",
      "By integrating the perspectives and expertise of these personas, you can develop a comprehensive strategy to improve your financial performance."
     ]
    }
   ],
   "source": [
    "# stream response\n",
    "\n",
    "for chunk in chain.stream(\n",
    "\"What strategies should we consider to improve our financial performance?\"):\n",
    "    print(chunk, end=\"\", flush=True)"
   ]
  },
  {
   "cell_type": "markdown",
   "metadata": {},
   "source": [
    "# Persona Selection"
   ]
  },
  {
   "cell_type": "code",
   "execution_count": 13,
   "metadata": {},
   "outputs": [],
   "source": [
    "# List available Personas\n",
    "\n",
    "personas = \"\"\"\n",
    "\n",
    "- Cybersecurity Expert\n",
    "- DevOps Engineer\n",
    "- Data Privacy Officer\n",
    "- Physicist\n",
    "- General Engineer\n",
    "- Skeptic\n",
    "- Optimist\n",
    "- Historian\n",
    "- Wise Guru\n",
    "- Customer Service Representative\n",
    "- Hypothetical User\n",
    "- User Experience Designer\n",
    "- Product Manager\n",
    "- Project Manager\n",
    "- Ethicist\n",
    "- Business Strategist\n",
    "- AI Researcher\n",
    "- Frontend Developer\n",
    "- Backend Developer\n",
    "- Data Scientist\n",
    "- Technical Writer\n",
    "- Quality Assurance Specialist\n",
    "- Threat Modeling Expert\n",
    "- Organizational Cybernetician\n",
    "- AI Prompt Engineer\n",
    "- Ontologist & Semantic Architect\n",
    "- Archaeologist\n",
    "- Sociologist\n",
    "- Cryptocurrency Analyst\n",
    "- Environmental Scientist\n",
    "- Human Resources Manager\n",
    "- Financial Advisor\n",
    "-Crisis Management Specialist\n",
    "- Urban Planner\n",
    "- Diversity, Equity, and Inclusion (DEI) Consultant\n",
    "- Health Policy Analyst\n",
    "- Social Media Manager\n",
    "- Supply Chain Analyst\n",
    "- Ethical Hacker\n",
    "- Digital Marketing Specialist\n",
    "- Occupational Therapist\n",
    "- Renewable Energy Engineer\n",
    "- Forensic Psychologist\n",
    "- Fashion Designer\n",
    "- Clinical Researcher\n",
    "- Sports Physiotherapist\n",
    "- Environmental Engineer\n",
    "- Patent Attorney\n",
    "\n",
    "\n",
    "\n",
    "\"\"\""
   ]
  },
  {
   "cell_type": "code",
   "execution_count": 14,
   "metadata": {},
   "outputs": [],
   "source": [
    "#Persona Selection prompt\n",
    "\n",
    "system_prompt = \"\"\"\n",
    "Take into account the nuances and underlying themes of the following question, giving it careful consideration.\n",
    "\n",
    "Question: {question}\n",
    "\n",
    "\"Carefully choose seven specialized personas from the provided list who possess the expertise required to \n",
    "establish a project aimed at developing industrial applications. Consider the individual depth and breadth \n",
    "of their skills, as well as the unique insights they offer. Recognize how their collective contributions may \n",
    "lead to innovative breakthroughs in addressing project challenges.\".\n",
    "\n",
    "I know you'll do great!\n",
    "\n",
    "Available Personas: {personas}\\n\\n{format_instructions}\n",
    "\n",
    "\"\"\""
   ]
  },
  {
   "cell_type": "code",
   "execution_count": 15,
   "metadata": {},
   "outputs": [],
   "source": [
    "# # Defines the response schema we want to receive\n",
    "\n",
    "response_schemas = [\n",
    "    ResponseSchema(name=\"persona1\", description=\"the most relevant persona selected to use to reason through the question\"),\n",
    "    ResponseSchema(name=\"persona2\", description=\"the second persona selected to use to reason through the question\"),\n",
    "    ResponseSchema(name=\"persona3\", description=\"the third persona selected to use to reason through the question\"),\n",
    "    ResponseSchema(name=\"persona4\", description=\"the fourth persona selected to use to reason through the question\"),\n",
    "    ResponseSchema(name=\"persona5\", description=\"the fifth persona selected to use to reason through the question\"),\n",
    "    ResponseSchema(name=\"persona6\", description=\"the sixth persona selected to use to reason through the question\"),\n",
    "    ResponseSchema(name=\"persona7\", description=\"the seventh persona selected to use to reason through the question\"),\n",
    "    ResponseSchema(name=\"rationale\", description=\"for each persona, carefully explain the most compelling reason for including them\")\n",
    "\n",
    "]\n",
    "\n",
    "output_parser = StructuredOutputParser.from_response_schemas(response_schemas)"
   ]
  },
  {
   "cell_type": "code",
   "execution_count": 16,
   "metadata": {},
   "outputs": [],
   "source": [
    "# Instructions for how the output should be formatted into our initial prompt\n",
    "format_instructions = output_parser.get_format_instructions()\n",
    "prompt = PromptTemplate(\n",
    "    template=\"answer the users question as best as possible.\\n{format_instructions}\\n{question}\",\n",
    "    input_variables=[\"question\"],\n",
    "    partial_variables={\"format_instructions\": format_instructions},\n",
    ")"
   ]
  },
  {
   "cell_type": "code",
   "execution_count": 17,
   "metadata": {},
   "outputs": [],
   "source": [
    "model = ChatOpenAI(temperature=0.5)\n",
    "chain = prompt | model | output_parser"
   ]
  },
  {
   "cell_type": "code",
   "execution_count": null,
   "metadata": {},
   "outputs": [],
   "source": [
    "chain.invoke({\"question\": \"Which experts have been selected for this project?\"})"
   ]
  },
  {
   "cell_type": "code",
   "execution_count": 49,
   "metadata": {},
   "outputs": [
    {
     "name": "stdout",
     "output_type": "stream",
     "text": [
      "{'persona1': 'Data Scientist', 'persona2': 'Machine Learning Engineer', 'persona3': 'Subject Matter Expert', 'persona4': 'Project Manager', 'persona5': 'Software Developer', 'persona6': 'Data Engineer', 'persona7': 'User Experience Designer', 'rationale': {'Data Scientist': 'To analyze and interpret complex data sets to derive insights and make data-driven decisions.', 'Machine Learning Engineer': 'To design and implement machine learning algorithms to develop predictive models.', 'Subject Matter Expert': 'To provide domain-specific knowledge and insights to guide the project in the right direction.', 'Project Manager': 'To oversee the project, coordinate team members, and ensure timely delivery within budget.', 'Software Developer': 'To develop and maintain software applications, ensuring they meet the project requirements.', 'Data Engineer': 'To design, construct, install, test, and maintain highly scalable data management systems.', 'User Experience Designer': 'To focus on enhancing user satisfaction by improving the usability and accessibility of the project.'}}"
     ]
    }
   ],
   "source": [
    "for chunk in chain.stream({\n",
    "\"question\": \"Which experts have been selected for this project?\"}):\n",
    "    print(chunk, end=\"\", flush=True)"
   ]
  },
  {
   "cell_type": "code",
   "execution_count": null,
   "metadata": {},
   "outputs": [],
   "source": []
  }
 ],
 "metadata": {
  "kernelspec": {
   "display_name": "base",
   "language": "python",
   "name": "python3"
  },
  "language_info": {
   "codemirror_mode": {
    "name": "ipython",
    "version": 3
   },
   "file_extension": ".py",
   "mimetype": "text/x-python",
   "name": "python",
   "nbconvert_exporter": "python",
   "pygments_lexer": "ipython3",
   "version": "3.11.5"
  }
 },
 "nbformat": 4,
 "nbformat_minor": 2
}
