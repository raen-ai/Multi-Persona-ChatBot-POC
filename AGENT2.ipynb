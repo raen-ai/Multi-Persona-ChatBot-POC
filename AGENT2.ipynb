{
 "cells": [
  {
   "cell_type": "code",
   "execution_count": 1,
   "metadata": {},
   "outputs": [],
   "source": [
    "# importing LangChain library to bring together the different components needed for our model\n",
    "\n",
    "from langchain.prompts import ChatPromptTemplate\n",
    "from langchain.chat_models import ChatOpenAI\n",
    "from langchain.schema.output_parser import StrOutputParser\n",
    "from langchain_core.runnables import RunnablePassthrough , RunnableParallel\n",
    "from langchain.schema.runnable import RunnablePassthrough\n",
    "from langchain_core.runnables import RunnableLambda\n",
    "from langchain.chat_models import ChatOpenAI\n",
    "from langchain.embeddings.openai import OpenAIEmbeddings\n",
    "from langchain.output_parsers import ResponseSchema, StructuredOutputParser\n",
    "from langchain.prompts import ChatPromptTemplate\n",
    "from langchain import PromptTemplate\n",
    "from langchain.text_splitter import CharacterTextSplitter\n",
    "from langchain.vectorstores import Qdrant\n",
    "from langchain_community.vectorstores import Qdrant\n",
    "from qdrant_client import models, QdrantClient\n",
    "import qdrant_client"
   ]
  },
  {
   "cell_type": "code",
   "execution_count": 2,
   "metadata": {},
   "outputs": [],
   "source": [
    "# API keys\n",
    "\n",
    "import os\n",
    "import dotenv\n",
    "\n",
    "os.environ[\"OPENAI_API_KEY\"]"
   ]
  },
  {
   "cell_type": "code",
   "execution_count": 3,
   "metadata": {},
   "outputs": [],
   "source": [
    "# create a qdrant instance\n",
    "\n",
    "os.environ['QDRANT_HOST']\n",
    "os.environ[\"QDRANT_API_KEY\"]\n",
    "\n",
    "client = qdrant_client.QdrantClient(\n",
    "    os.getenv(\"QDRANT_HOST\"),\n",
    "    api_key=os.getenv(\"QDRANT_API_KEY\")\n",
    ")"
   ]
  },
  {
   "cell_type": "code",
   "execution_count": 4,
   "metadata": {},
   "outputs": [],
   "source": [
    "# create a qdrant instance\n",
    "\n",
    "os.environ['QDRANT_HOST'] \n",
    "os.environ[\"QDRANT_API_KEY\"]\n",
    "\n",
    "client = qdrant_client.QdrantClient(\n",
    "    os.getenv(\"QDRANT_HOST\"),\n",
    "    api_key=os.getenv(\"QDRANT_API_KEY\")\n",
    ")"
   ]
  },
  {
   "cell_type": "code",
   "execution_count": 5,
   "metadata": {},
   "outputs": [],
   "source": [
    "# read the file\n",
    "\n",
    "doc =\"personas.txt\"\n",
    "data=\"\"\n",
    "\n",
    "with open(doc,'r') as f:\n",
    "    data = f.read()"
   ]
  },
  {
   "cell_type": "code",
   "execution_count": 6,
   "metadata": {},
   "outputs": [],
   "source": [
    "# split the text into chunks\n",
    "#create a function to return chunks\n",
    "def get_chunks(text):\n",
    "    text_splitter=CharacterTextSplitter(\n",
    "        separator= \"\\n\",\n",
    "        chunk_size=1000,\n",
    "        chunk_overlap=100, # second chunk start  character from 800, overlap is used to stop loosing chunk\n",
    "        length_function=len\n",
    "    )\n",
    "\n",
    "    chunks=text_splitter.split_text(text)\n",
    "    return chunks"
   ]
  },
  {
   "cell_type": "code",
   "execution_count": 7,
   "metadata": {},
   "outputs": [],
   "source": [
    "# get the chunks for the data\n",
    "texts=get_chunks(data)"
   ]
  },
  {
   "cell_type": "code",
   "execution_count": null,
   "metadata": {},
   "outputs": [],
   "source": [
    "# creating a new collection\n",
    "\n",
    "vectors_config=models.VectorParams(\n",
    "    # depends on model, we can google dimension. 1536 for openai\n",
    "    # we are using openai embedding, for that size is 1536\n",
    "    size=1536,\n",
    "    distance=models.Distance.COSINE)\n",
    "\n",
    "client.create_collection(\n",
    "    collection_name=\"Personas\",\n",
    "    vectors_config=vectors_config,\n",
    ")"
   ]
  },
  {
   "cell_type": "code",
   "execution_count": 8,
   "metadata": {},
   "outputs": [
    {
     "name": "stderr",
     "output_type": "stream",
     "text": [
      "e:\\AnacondaFile\\Lib\\site-packages\\langchain_core\\_api\\deprecation.py:117: LangChainDeprecationWarning: The class `langchain_community.embeddings.openai.OpenAIEmbeddings` was deprecated in langchain-community 0.1.0 and will be removed in 0.2.0. An updated version of the class exists in the langchain-openai package and should be used instead. To use it run `pip install -U langchain-openai` and import as `from langchain_openai import OpenAIEmbeddings`.\n",
      "  warn_deprecated(\n"
     ]
    }
   ],
   "source": [
    "# create a vector store object using langchain\n",
    "\n",
    "# if we want to use any other embedding, we need to change size\n",
    "\n",
    "os.environ[\"OPENAI_API_KEY\"]\n",
    "\n",
    "embeddings = OpenAIEmbeddings()\n",
    "\n",
    "vector_store = Qdrant(\n",
    "    client=client,\n",
    "    collection_name=\"Personas\",\n",
    "    embeddings=embeddings,\n",
    ")\n"
   ]
  },
  {
   "cell_type": "code",
   "execution_count": 12,
   "metadata": {},
   "outputs": [
    {
     "data": {
      "text/plain": [
       "['b62fbdf665f34e82ae50e3de98f444d0',\n",
       " '4c198a6d6d8c423fba2b2158bc7955ec',\n",
       " '1592a18c6c81427497a17f53d5b2efbb',\n",
       " 'de2daab914454c3782440af0be90d6a9',\n",
       " 'e03c4072a69e4278908d0d045417fe00',\n",
       " 'ad75eef7fd824945bdbd3b22a706f885',\n",
       " 'cb9a45933a724f018100414aaae4e334',\n",
       " 'a8d41e269d164e20ba5bfa1a3d2e5375',\n",
       " '138753a625fd47489eb3ed9ee7263459',\n",
       " 'e635e89bc81e4a7db62dd2758339f943',\n",
       " '0a932e0160c74059a2ba8a1b3db670a1',\n",
       " '8ee251c4589b43588c50fe8c24588cc3',\n",
       " '6366a3f45cd944d795e636070c6ec5fe',\n",
       " 'ae2863a6de614b13bdb29abcff1583dc',\n",
       " '6c8ec70738bb44bb9a66a522df9cfedd',\n",
       " '40655d01d0084d6e971295244319ee49',\n",
       " '435b2db36c0c424e82a4bc6171922d5f',\n",
       " '0904a9970f7c42d2ae4b69e3af620adb',\n",
       " 'a72d1bccfb634d0db902e6c861fce003',\n",
       " 'ec95c7e33d97404fa05aa12aad568e6b',\n",
       " '96f3273f7c484913a0732730be12be36',\n",
       " '15245376f40c48739b560c547cf649e7',\n",
       " 'f56f45416d1d4f5c92bf2b31b780c9c9',\n",
       " '197c2017ac834fa4bafa234f0985bb5c',\n",
       " '47b30cb976fd4548babb12cfcdedde5e',\n",
       " 'efae3f39c5d84bcb897f0033947f6437',\n",
       " '33431665598d4ed8a506ec3e3703310e',\n",
       " 'ec91d77fb1234dacafda33212a57dc26',\n",
       " '545869abb17348758c55f616d510d9db',\n",
       " '34e2bc310e004ebea222beee39dcc375',\n",
       " '3950f74be35940f6ab5f0464243edad8',\n",
       " 'de792b1c230748aa81927c40cb0f0dce',\n",
       " '8abd9e63ed864af8ae99086e74e614c0',\n",
       " '168a011dd451440c92ca1a37f0389269',\n",
       " '9f31585b19834f7f8a589eafff59e0ee',\n",
       " '12dbbb25c5c34b7ba73ed0a31cec4bf7',\n",
       " '937f3a3b96984c7d8f4ad7995224ec4e',\n",
       " 'f09088cd04194c44976d6bb1f40d5b84',\n",
       " '23100333572c4b71b42dd11f5158932e',\n",
       " 'e5b191aebc444067bf4d6a28675f84ee',\n",
       " 'b9655d28cc4c4adc9196707d0d33b7a8',\n",
       " '55451bc731f0412e928e319a5ca1a262',\n",
       " '0d5d9bea13d14b589d6f2d51aee2e8fe',\n",
       " '052758915b2042d392499d09631820a2',\n",
       " '05b379bf1f2349f8b6f14b519cff9234',\n",
       " 'd349da2b543446ac985a9d060ddd2e90',\n",
       " 'd258b3aafe3a41e08e91fde81f3ec60f',\n",
       " 'c1c08daf3ae6488e80f8d74b68cd49d1',\n",
       " '17e792adba14459aa5af712ab9d9feb7',\n",
       " 'b40f33fded1c4b61b1e91489f7f57375',\n",
       " '4740d65358a3401cb67ded2f0fb78101']"
      ]
     },
     "execution_count": 12,
     "metadata": {},
     "output_type": "execute_result"
    }
   ],
   "source": [
    "# add chunks to vector store\n",
    "vector_store.add_texts(texts)"
   ]
  },
  {
   "cell_type": "code",
   "execution_count": 29,
   "metadata": {},
   "outputs": [],
   "source": [
    "# create retriever & let's try passing a question through to a these vectorstore objects\n",
    "\n",
    "\n",
    "retriever = vector_store.as_retriever()\n",
    "\n",
    "template1 = \"\"\"\"You are an strategizing AI agent for industrial projects \n",
    "you provide insights which are categorized based on the personas provided to you. \n",
    "Your insights should reflect proper industry experience of the persona\n",
    " Please include the personas employed in the team composition.\n",
    "     {context}\n",
    "\n",
    "Question: {question}\n",
    "\"\"\""
   ]
  },
  {
   "cell_type": "code",
   "execution_count": 30,
   "metadata": {},
   "outputs": [],
   "source": [
    "template2 = \"\"\"\"You are a AI smart assistant here to offer guidance and advice on a variety of tasks and queries. \n",
    "Utilize the available tools to move forward in finding the answer to your question\n",
    "{context}\n",
    "\n",
    "Question: {question}\"\"\""
   ]
  },
  {
   "cell_type": "code",
   "execution_count": 31,
   "metadata": {},
   "outputs": [],
   "source": [
    "template = template1 + template2"
   ]
  },
  {
   "cell_type": "code",
   "execution_count": 32,
   "metadata": {},
   "outputs": [],
   "source": [
    "prompt = ChatPromptTemplate.from_template(template)\n",
    "\n",
    "model = ChatOpenAI()"
   ]
  },
  {
   "cell_type": "code",
   "execution_count": 33,
   "metadata": {},
   "outputs": [],
   "source": [
    "chain = (\n",
    "    {\"context\": retriever, \"question\": RunnablePassthrough()}\n",
    "    | prompt\n",
    "    | model\n",
    "    | StrOutputParser()\n",
    ")"
   ]
  },
  {
   "cell_type": "code",
   "execution_count": null,
   "metadata": {},
   "outputs": [],
   "source": [
    "# invoke response\n",
    "chain.invoke(\"How can I set up a project for developing a industrial applications, including needed skills, team members, and budget considerations?\")\n"
   ]
  },
  {
   "cell_type": "code",
   "execution_count": 34,
   "metadata": {},
   "outputs": [
    {
     "name": "stdout",
     "output_type": "stream",
     "text": [
      "To set up a project for developing industrial applications, you will need to consider the following:\n",
      "\n",
      "1. Define Project Scope and Objectives:\n",
      "   - Clearly outline the scope of the project, including the specific industrial applications you aim to develop and the objectives you want to achieve.\n",
      "\n",
      "2. Identify Needed Skills and Expertise:\n",
      "   - As Manager Maya, leverage your expertise in coordinating cross-functional teams to identify the necessary skills required for the project. This may include software developers, engineers, UI/UX designers, quality assurance testers, and industrial domain experts.\n",
      "\n",
      "3. Team Composition:\n",
      "   - As Manager Maya, assemble a diverse and skilled team that complements each other's strengths. Ensure effective communication and collaboration among team members to ensure project success.\n",
      "\n",
      "4. Budget Considerations:\n",
      "   - Utilize your experience in delivering projects within budget to develop a detailed budget plan for the industrial applications project. Consider costs associated with personnel, equipment, software licenses, and any other resources needed.\n",
      "\n",
      "5. Project Management Methodology:\n",
      "   - Utilize your expertise in project management methodologies like PRINCE2 to establish a structured approach for planning, executing, and closing project tasks. Ensure alignment with project objectives throughout the project lifecycle.\n",
      "\n",
      "6. Risk Management:\n",
      "   - Draw on your strategic problem-solving skills to anticipate and mitigate potential risks that may arise during the project. Develop a risk management plan to address and minimize any unforeseen challenges.\n",
      "\n",
      "7. Stakeholder Engagement:\n",
      "   - Leverage your exceptional communication skills to keep stakeholders engaged and informed throughout the project lifecycle. Regularly update stakeholders on project progress, milestones achieved, and any challenges faced.\n",
      "\n",
      "By incorporating these considerations and leveraging your expertise as Manager Maya, you can effectively set up a project for developing industrial applications that meets quality standards, stays within budget, and achieves the desired objectives."
     ]
    }
   ],
   "source": [
    "# stream response\n",
    "\n",
    "for chunk in chain.stream(\n",
    "\"How can I set up a project for developing a industrial applications, including needed skills, team members, and budget considerations?\"):\n",
    "    print(chunk, end=\"\", flush=True)"
   ]
  },
  {
   "cell_type": "code",
   "execution_count": 28,
   "metadata": {},
   "outputs": [
    {
     "name": "stdout",
     "output_type": "stream",
     "text": [
      "As an AI smart assistant with insights from personas like Manager Max, a social media manager, and User Uma, a hypothetical end-user, here are some strategies to increase the number of units sold in a supermarket during summer sales and deals:\n",
      "\n",
      "1. Social Media Campaigns: Manager Max can create and execute social media campaigns that promote the summer sales and deals at the supermarket. Highlighting special discounts, limited-time offers, and promotions can attract more customers to visit the store.\n",
      "\n",
      "2. Compelling Content: Manager Max can develop engaging content that showcases the products on sale, the benefits of shopping during the summer season, and the value of the deals offered. This content can be shared on social media platforms to generate interest and drive traffic to the supermarket.\n",
      "\n",
      "3. User Experience: User Uma's perspective can help in ensuring a seamless user experience for customers visiting the supermarket. By focusing on usability, intuitiveness, and value, the supermarket can enhance the shopping experience and encourage repeat visits.\n",
      "\n",
      "4. Customer Engagement: User Uma's feedback can be valuable in improving customer engagement at the supermarket. By listening to customer opinions and suggestions, the supermarket can tailor its summer sales and deals to meet the needs and expectations of the shoppers, ultimately increasing the number of units sold.\n",
      "\n",
      "5. Promotional Strategies: Leveraging both social media marketing expertise and user feedback, the supermarket can implement targeted promotional strategies such as limited-time offers, buy-one-get-one deals, and loyalty programs to incentivize customers to make more purchases during the summer season.\n",
      "\n",
      "By combining the insights from personas like Manager Max and User Uma, the supermarket can effectively increase the number of units sold during summer sales and deals, driving business objectives and enhancing customer satisfaction."
     ]
    }
   ],
   "source": [
    "# stream response\n",
    "\n",
    "for chunk in chain.stream(\n",
    "\"Can you advise with how to increase the number of units sold in a supermarket based off of summer sales and deals?\"):\n",
    "    print(chunk, end=\"\", flush=True)"
   ]
  },
  {
   "cell_type": "code",
   "execution_count": 22,
   "metadata": {},
   "outputs": [
    {
     "name": "stdout",
     "output_type": "stream",
     "text": [
      "To improve financial performance, considering the personas provided in the team composition, the following strategies can be considered:\n",
      "\n",
      "1. **Advisor Amy (Financial Advisor)**:\n",
      "   - Utilize Amy's expertise in investment planning, retirement planning, estate planning, and risk management to optimize the portfolio and financial strategies.\n",
      "   - Leverage Amy's personalized financial advice and guidance to tailor financial plans for different client needs and circumstances.\n",
      "   - Stay updated on market trends, economic developments, and regulatory changes to make informed decisions that benefit the financial performance.\n",
      "\n",
      "2. **Strategist Sophia (Business Strategist)**:\n",
      "   - Tap into Sophia's strategic thinking and business acumen to develop long-term strategies that drive business growth and improve financial performance.\n",
      "   - Analyze market dynamics, competitive landscape, and business models to identify opportunities for revenue generation and cost optimization.\n",
      "   - Consider future trends and strategic implications of decisions to ensure sustainable financial success.\n",
      "\n",
      "By integrating the insights and expertise of Advisor Amy and Strategist Sophia, the team can develop comprehensive strategies that align with the organization's financial goals and lead to improved financial performance."
     ]
    }
   ],
   "source": [
    "# stream response\n",
    "\n",
    "for chunk in chain.stream(\n",
    "\"What strategies should we consider to improve our financial performance?\"):\n",
    "    print(chunk, end=\"\", flush=True)"
   ]
  },
  {
   "cell_type": "markdown",
   "metadata": {},
   "source": [
    "# Persona Selection"
   ]
  },
  {
   "cell_type": "code",
   "execution_count": 13,
   "metadata": {},
   "outputs": [],
   "source": [
    "# List available Personas\n",
    "\n",
    "personas = \"\"\"\n",
    "\n",
    "- Cybersecurity Expert\n",
    "- DevOps Engineer\n",
    "- Data Privacy Officer\n",
    "- Physicist\n",
    "- General Engineer\n",
    "- Skeptic\n",
    "- Optimist\n",
    "- Historian\n",
    "- Wise Guru\n",
    "- Customer Service Representative\n",
    "- Hypothetical User\n",
    "- User Experience Designer\n",
    "- Product Manager\n",
    "- Project Manager\n",
    "- Ethicist\n",
    "- Business Strategist\n",
    "- AI Researcher\n",
    "- Frontend Developer\n",
    "- Backend Developer\n",
    "- Data Scientist\n",
    "- Technical Writer\n",
    "- Quality Assurance Specialist\n",
    "- Threat Modeling Expert\n",
    "- Organizational Cybernetician\n",
    "- AI Prompt Engineer\n",
    "- Ontologist & Semantic Architect\n",
    "- Archaeologist\n",
    "- Sociologist\n",
    "- Cryptocurrency Analyst\n",
    "- Environmental Scientist\n",
    "- Human Resources Manager\n",
    "- Financial Advisor\n",
    "-Crisis Management Specialist\n",
    "- Urban Planner\n",
    "- Diversity, Equity, and Inclusion (DEI) Consultant\n",
    "- Health Policy Analyst\n",
    "- Social Media Manager\n",
    "- Supply Chain Analyst\n",
    "- Ethical Hacker\n",
    "- Digital Marketing Specialist\n",
    "- Occupational Therapist\n",
    "- Renewable Energy Engineer\n",
    "- Forensic Psychologist\n",
    "- Fashion Designer\n",
    "- Clinical Researcher\n",
    "- Sports Physiotherapist\n",
    "- Environmental Engineer\n",
    "- Patent Attorney\n",
    "\n",
    "\n",
    "\n",
    "\"\"\""
   ]
  },
  {
   "cell_type": "code",
   "execution_count": 14,
   "metadata": {},
   "outputs": [],
   "source": [
    "#Persona Selection prompt\n",
    "\n",
    "system_prompt = \"\"\"\n",
    "Take into account the nuances and underlying themes of the following question, giving it careful consideration.\n",
    "\n",
    "Question: {question}\n",
    "\n",
    "\"Carefully choose seven specialized personas from the provided list who possess the expertise required to \n",
    "establish a project aimed at developing industrial applications. Consider the individual depth and breadth \n",
    "of their skills, as well as the unique insights they offer. Recognize how their collective contributions may \n",
    "lead to innovative breakthroughs in addressing project challenges.\".\n",
    "\n",
    "I know you'll do great!\n",
    "\n",
    "Available Personas: {personas}\\n\\n{format_instructions}\n",
    "\n",
    "\"\"\""
   ]
  },
  {
   "cell_type": "code",
   "execution_count": 15,
   "metadata": {},
   "outputs": [],
   "source": [
    "# # Defines the response schema we want to receive\n",
    "\n",
    "response_schemas = [\n",
    "    ResponseSchema(name=\"persona1\", description=\"the most relevant persona selected to use to reason through the question\"),\n",
    "    ResponseSchema(name=\"persona2\", description=\"the second persona selected to use to reason through the question\"),\n",
    "    ResponseSchema(name=\"persona3\", description=\"the third persona selected to use to reason through the question\"),\n",
    "    ResponseSchema(name=\"persona4\", description=\"the fourth persona selected to use to reason through the question\"),\n",
    "    ResponseSchema(name=\"persona5\", description=\"the fifth persona selected to use to reason through the question\"),\n",
    "    ResponseSchema(name=\"persona6\", description=\"the sixth persona selected to use to reason through the question\"),\n",
    "    ResponseSchema(name=\"persona7\", description=\"the seventh persona selected to use to reason through the question\"),\n",
    "    ResponseSchema(name=\"rationale\", description=\"for each persona, carefully explain the most compelling reason for including them\")\n",
    "\n",
    "]\n",
    "\n",
    "output_parser = StructuredOutputParser.from_response_schemas(response_schemas)"
   ]
  },
  {
   "cell_type": "code",
   "execution_count": 16,
   "metadata": {},
   "outputs": [],
   "source": [
    "# Instructions for how the output should be formatted into our initial prompt\n",
    "format_instructions = output_parser.get_format_instructions()\n",
    "prompt = PromptTemplate(\n",
    "    template=\"answer the users question as best as possible.\\n{format_instructions}\\n{question}\",\n",
    "    input_variables=[\"question\"],\n",
    "    partial_variables={\"format_instructions\": format_instructions},\n",
    ")"
   ]
  },
  {
   "cell_type": "code",
   "execution_count": 17,
   "metadata": {},
   "outputs": [],
   "source": [
    "model = ChatOpenAI(temperature=0.5)\n",
    "chain = prompt | model | output_parser"
   ]
  },
  {
   "cell_type": "code",
   "execution_count": null,
   "metadata": {},
   "outputs": [],
   "source": [
    "chain.invoke({\"question\": \"Which experts have been selected for this project?\"})"
   ]
  },
  {
   "cell_type": "code",
   "execution_count": 49,
   "metadata": {},
   "outputs": [
    {
     "name": "stdout",
     "output_type": "stream",
     "text": [
      "{'persona1': 'Data Scientist', 'persona2': 'Machine Learning Engineer', 'persona3': 'Subject Matter Expert', 'persona4': 'Project Manager', 'persona5': 'Software Developer', 'persona6': 'Data Engineer', 'persona7': 'User Experience Designer', 'rationale': {'Data Scientist': 'To analyze and interpret complex data sets to derive insights and make data-driven decisions.', 'Machine Learning Engineer': 'To design and implement machine learning algorithms to develop predictive models.', 'Subject Matter Expert': 'To provide domain-specific knowledge and insights to guide the project in the right direction.', 'Project Manager': 'To oversee the project, coordinate team members, and ensure timely delivery within budget.', 'Software Developer': 'To develop and maintain software applications, ensuring they meet the project requirements.', 'Data Engineer': 'To design, construct, install, test, and maintain highly scalable data management systems.', 'User Experience Designer': 'To focus on enhancing user satisfaction by improving the usability and accessibility of the project.'}}"
     ]
    }
   ],
   "source": [
    "for chunk in chain.stream({\n",
    "\"question\": \"Which experts have been selected for this project?\"}):\n",
    "    print(chunk, end=\"\", flush=True)"
   ]
  },
  {
   "cell_type": "code",
   "execution_count": null,
   "metadata": {},
   "outputs": [],
   "source": []
  }
 ],
 "metadata": {
  "kernelspec": {
   "display_name": "base",
   "language": "python",
   "name": "python3"
  },
  "language_info": {
   "codemirror_mode": {
    "name": "ipython",
    "version": 3
   },
   "file_extension": ".py",
   "mimetype": "text/x-python",
   "name": "python",
   "nbconvert_exporter": "python",
   "pygments_lexer": "ipython3",
   "version": "3.11.5"
  }
 },
 "nbformat": 4,
 "nbformat_minor": 2
}
